{
 "cells": [
  {
   "cell_type": "markdown",
   "metadata": {},
   "source": [
    "# 6장 피지엠파이(pgmpy)로 공부하는 확률론"
   ]
  },
  {
   "cell_type": "markdown",
   "metadata": {},
   "source": [
    "이 장에서는 확률론의 기초를 공부한다. 먼저 확률을 수학적으로 정의하는 방법을 공부하는데 이를 위해 집합론 기초를 복습한다. 다음으로 확률이 가진 성질을 살펴본다. 실제 확률의 모습을 묘사하기 위해서는 확률분포함수를 사용하는 것이 편리하다. \n",
    "\n",
    "다음으로 결합확률과 조건부 확률의 정의를 살펴보고 베이즈 정리에 대해 공부한다. 그리고 베이즈 정리가 분류 문제에 어떻게 사용될 수 있는지 알아본다."
   ]
  },
  {
   "cell_type": "markdown",
   "metadata": {},
   "source": [
    "## 학습 목표"
   ]
  },
  {
   "cell_type": "markdown",
   "metadata": {},
   "source": [
    "* 집합\n",
    "* 확률의 수학적 정의와 의미\n",
    "* 확률의 성질\n",
    "* 확률분포함수\n",
    "* 결합 확률과 조건부 확률\n",
    "* 베이즈 정리\n",
    "* 베이즈 정리와 분류 문제"
   ]
  }
 ],
 "metadata": {
  "kernelspec": {
   "display_name": "Python 3",
   "language": "python",
   "name": "python3"
  },
  "language_info": {
   "codemirror_mode": {
    "name": "ipython",
    "version": 3
   },
   "file_extension": ".py",
   "mimetype": "text/x-python",
   "name": "python",
   "nbconvert_exporter": "python",
   "pygments_lexer": "ipython3",
   "version": "3.7.0"
  },
  "pycharm": {
   "stem_cell": {
    "cell_type": "raw",
    "metadata": {
     "collapsed": false
    },
    "source": []
   }
  }
 },
 "nbformat": 4,
 "nbformat_minor": 2
}
