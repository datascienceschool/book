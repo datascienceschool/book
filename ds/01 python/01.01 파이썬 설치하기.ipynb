{
 "cells": [
  {
   "cell_type": "markdown",
   "metadata": {
    "school_cell_uuid": "bedc91abb99c4cb6bc5f2338d12836a2"
   },
   "source": [
    "# 1.1 파이썬 설치하기"
   ]
  },
  {
   "cell_type": "markdown",
   "metadata": {
    "school_cell_uuid": "a8aca10ec77941eeb6b1b34d1883e2b9"
   },
   "source": [
    "여기에서는 사용자의 컴퓨터에 직접 파이썬을 설치하여 사용하는 방법을 살펴본다. "
   ]
  },
  {
   "cell_type": "markdown",
   "metadata": {
    "school_cell_uuid": "dcefb57675bd44adb9956e0718b075b5"
   },
   "source": [
    "## 파이썬의 종류"
   ]
  },
  {
   "cell_type": "markdown",
   "metadata": {},
   "source": [
    "::: {.column-margin}\n",
    "씨파이썬(CPython)\n",
    ":::"
   ]
  },
  {
   "cell_type": "markdown",
   "metadata": {
    "school_cell_uuid": "526efa2cc77f4146beb5b187bbae62b3"
   },
   "source": [
    "파이썬을 설치한다는 것은 파이썬 언어를 해석할 수 있는 인터프리터(interpreter)라는 프로그램을 설치한다는 뜻이다. 인터프리터란 소스 코드(source code)를 읽고 해석하여 수행하는 프로그램이다. \n",
    "\n",
    "최초의 파이썬 언어 인터프리터는 C 언어로 만들어졌다. C로 만든 파이썬은 CPython(씨 파이썬이라고 읽는다)이라고 한다. CPython은 C 혹은 C++ 언어로 된 바이너리 라이브러리를 직접 호출할 수 있기 때문에 수많은 C/C++ 라이브러리를 파이썬에서 쉽게 사용할 수 있는 장점이 있다. 수치 계산이나 데이터 분석용으로 파이썬을 사용할 때는 항상 씨파이썬(CPython)을 사용한다.\n",
    "\n",
    "그 외에 자바(Java)로 구현된 자이썬(Jython), 닷넷(.NET)으로 구현된 아이언파이썬(IronPython), 자바스크립트로 구현된 스컬프트(Skulpt) 등의 파이썬도 있다. 이처럼 각 언어로 구현된 파이썬은 자바 라이브러리나 닷넷 컴포넌트를 파이썬에서 직접 호출하여 사용할 때나 웹 브라우저에서 직접 파이썬을 실행할 때 쓰인다. 파이파이(PyPy)는 JIT(Just-In-Time) 컴파일러를 내장하여 반복되는 코드를 빠르게 실행할 수 있도록 한 파이썬이다."
   ]
  },
  {
   "cell_type": "markdown",
   "metadata": {
    "school_cell_uuid": "574813f26a9f4a62a41c89dea0bdc42a"
   },
   "source": [
    "## 파이썬의 버전"
   ]
  },
  {
   "cell_type": "markdown",
   "metadata": {
    "school_cell_uuid": "930452622c804b7c9484cd5338e07af6"
   },
   "source": [
    "파이썬은 다른 언어와 달리 역사적으로 2 버전과 3 버전이 동시에 활발하게 사용되어 왔다. 하지만 2019년을 기점으로 대부분의 패키지와 커뮤니티에서 2 버전 지원을 중단했다. 따라서 이 책에서는 3 버전을 기준으로 설명한다. "
   ]
  },
  {
   "cell_type": "markdown",
   "metadata": {
    "school_cell_uuid": "7a6ffd4f12fc44f5a070304d05badcae"
   },
   "source": [
    "## 파이썬 설치"
   ]
  },
  {
   "cell_type": "markdown",
   "metadata": {
    "school_cell_uuid": "01b1819a23e34719b068f91acf74da53"
   },
   "source": [
    "파이썬 종류와 버전을 알아보았으니 이제 파이썬을 설치해보자. 리눅스와 맥OS 대부분에는 파이썬이 설치되어 있다. 윈도우를 사용한다면 파이썬 공식 웹사이트에서 파이썬 인터프리터를 내려받아 설치할 수 있다. 윈도우를 사용한다면 파이썬 공식 웹사이트에서 파이썬 인터프리터를 내려받아 설치할 수 있다.\n",
    "\n",
    "그런데 리눅스와 맥에 기본 설치된 파이썬을 사용하거나, 공식 웹사이트에서 파이썬 인터프리터를 내려받아서 설치해 사용하면 파이썬 패키지 관리가 어렵고 여러 가지 다양한 추가 도구를 별도로 설치해야 해서 권장하지 않는다. 대신, 다음에 설명하는 배포판을 이용하기를 권장한다."
   ]
  },
  {
   "cell_type": "markdown",
   "metadata": {
    "school_cell_uuid": "71d00ef1ac2f4663bcf50a699db6b350"
   },
   "source": [
    "## 파이썬 배포판"
   ]
  },
  {
   "cell_type": "markdown",
   "metadata": {},
   "source": [
    "::: {.column-margin}\n",
    "아나콘다 배포판\n",
    ":::"
   ]
  },
  {
   "cell_type": "markdown",
   "metadata": {
    "school_cell_uuid": "4462ea7e3b814074a881dfe2ab38538e"
   },
   "source": [
    "파이썬은 기본 파이썬 인터프리터 이외에도 다양한 패키지와 개발 도구를 함께 제공하는 배포판(distribution)으로 설치하는 것이 좋다. 여러 가지 배포판이 있으므로 사용하고자 하는 운영체제, 32/64비트 지원 여부, 무료/상용 여부를 잘 고려하여 선택해야 한다.\n",
    "\n",
    "현재 가장 널리 사용되는 파이썬 배포판은 '아나콘다(Anaconda)'다. 아나콘다는 여러 파이썬 배포판 중 가장 늦게 발표되었지만 무료이고 완성도가 뛰어나서 사실상의 표준(de facto standard) 파이썬 배포판이 되었다. 아나콘다 배포판은 모든 패키지가 컴파일이 필요 없는 바이너리(binary) 형태로 제공된다. 따라서 설치 속도가 빠르고 패키지 의존성을 관리해주므로 관리가 편리하다.\n",
    "\n",
    "아나콘다 배포판은 다음 웹사이트에서 자신이 사용하는 운영체제에 맞는 것을 선택하여 내려받는다.\n",
    "\n",
    "* https://www.anaconda.com/distribution/\n",
    "\n",
    "이 책은 64비트용 파이썬 3.7 버전을 기준으로 설명한다. 따라서 64비트용 파이썬 3.7 버전을 설치하는 것을 추천한다.  "
   ]
  },
  {
   "cell_type": "markdown",
   "metadata": {},
   "source": [
    "## 아나콘다 파이썬 설치"
   ]
  },
  {
   "cell_type": "markdown",
   "metadata": {},
   "source": [
    "아나콘다 배포판을 설치하는 방법은 아주 쉽다. 윈도우나 맥에서는 내려받은 파일을 더블 클릭하면 설치가 쉽게 이루어진다. 모든 설정은 주어진 기본 설정으로 선택하면 된다. 리눅스에서는 받은 파일이 실행 파일이므로 셸에서 ``sh`` 명령으로 실행한다. \n",
    "\n",
    "설치 중 설정을 변경하지 않았다면 다음 디렉터리에 설치된다.\n",
    "\n",
    "* 윈도우: ``C:/Users/사용자계정이름/anaconda3``\n",
    "* 맥: ``/Users/사용자계정이름/anaconda3``\n",
    "* 리눅스: ``/home/사용자계정이름/anaconda3``\n",
    "\n",
    "아나콘다 배포판 설치가 완료되면 윈도우 운영체제에서는 ``Anaconda3``라는 아이콘 그룹이 생긴다."
   ]
  },
  {
   "cell_type": "markdown",
   "metadata": {
    "school_cell_uuid": "c98644a3af294041937f08528720d1fb"
   },
   "source": [
    "## 파이썬 동작 확인"
   ]
  },
  {
   "cell_type": "markdown",
   "metadata": {},
   "source": [
    "패키지를 설치한 후에는 파이썬을 실행하여 정상적으로 설치되었는지 확인하자.\n",
    "\n",
    "맥이나 리눅스에서는 새로운 터미널을 시작하고 ``python``이라고 입력한다. 파이썬 파일에 대한 경로가 정상적으로 지정되려면 반드시 새로운 터미널을 시작해야 한다.윈도우의 경우에는 파이썬 파일에 대한 경로가 지정되어 있지 않으므로 시작 메뉴에서 Anaconda3 프로그램 그룹을 선택하고 이 아래의 “Anaconda Prompt”를 클릭하면 파이썬 경로가 지정된 터미널이 시작된다.\n",
    "\n",
    "* 모든 프로그램 → Anaconda3 (64-bit) → Anaconda Prompt"
   ]
  },
  {
   "cell_type": "markdown",
   "metadata": {
    "school_cell_uuid": "9ed882c016b640a08b87d9025c6e0e39"
   },
   "source": [
    "정상적으로 실행된다면 터미널이 뜨고 다음처럼 파이썬 버전 번호를 포함한 메시지와 >>> 모양의 프롬프트가 나온다. 메시지 내용은 사용하는 컴퓨터나 파이썬 버전, 다운로드받은 시점에 따라 달라질 수 있다. \n",
    "\n",
    "```\n",
    "$ python\n",
    "Python 3.7.3 (default, Mar 27 2019, 22:11:17)\n",
    "[GCC 7.3.0] :: Anaconda custom (64-bit) on linux\n",
    "Type \"help\", \"copyright\", \"credits\" or \"license\" for more information.\n",
    ">>>\n",
    ">>> exit()\n",
    "$\n",
    "```\n",
    "\n",
    "여기에서는 파이썬이 동작하는지 확인만 하고 구체적인 사용법은 나중에 공부하므로 이제 파이썬 인터프리터를 종료하자. 종료하려면 위와 같이 `exit()` 명령을 실행한다."
   ]
  },
  {
   "cell_type": "markdown",
   "metadata": {
    "school_cell_uuid": "bd85616ef63f49c6af61cc8b8e742a4b"
   },
   "source": [
    "## 아이파이썬 동작 확인"
   ]
  },
  {
   "cell_type": "markdown",
   "metadata": {},
   "source": [
    "::: {.column-margin}\n",
    "아이파이썬(IPython)\n",
    ":::"
   ]
  },
  {
   "cell_type": "markdown",
   "metadata": {
    "school_cell_uuid": "d21be89e83934a36b7829218687390c2"
   },
   "source": [
    "이번에는 같은 터미널 창에 다음과 같이 입력하여 기본 파이썬보다 기능이 강화된 아이파이썬(IPython)을 실행한다. 프롬프트가 아까와 달리 `In [1]`과 같이 나오며 몇 번째 명령인지를 숫자로 알려준다. 아까와 마찬가지로 아이파이썬을 종료하자. 아이파이썬을 종료하려면 괄호없이 `exit`라고만 입력하면 된다.\n",
    "\n",
    "```\n",
    "$ ipython\n",
    "Python 3.7.3 (default, Mar 27 2019, 22:11:17)\n",
    "Type 'copyright', 'credits' or 'license' for more information\n",
    "IPython 7.5.0 -- An enhanced Interactive Python. Type '?' for help.\n",
    "In [1]:\n",
    "In [1]: exit\n",
    "$\n",
    "```"
   ]
  },
  {
   "cell_type": "markdown",
   "metadata": {
    "school_cell_uuid": "789adef27e3a4feea8cd542dabcca0e1"
   },
   "source": [
    "## 주피터 노트북  동작 확인"
   ]
  },
  {
   "cell_type": "markdown",
   "metadata": {},
   "source": [
    "::: {.column-margin}\n",
    "주피터 노트북(Jupyter notebook)\n",
    ":::"
   ]
  },
  {
   "cell_type": "markdown",
   "metadata": {
    "school_cell_uuid": "09070e1d5558493ca17af474f62d0cc8"
   },
   "source": [
    "주피터 노트북(Jupyter Notebook)은 웹 브라우저를 사용하여 문서와 코드를 동시에 지원하는 개발 도구다. 웹서버 형태로 구현되어 있다. 주피터 노트북을 실행하려면 윈도우에서 다음과 같은 메뉴를 선택한다.\n",
    "\n",
    "* 모든 프로그램 → Anaconda3 (64-bit) → Jupyter Notebook\n",
    "\n",
    "또는 “Anaconda Prompt”로 띄운 터미널에서 다음과 같이 입력해도 된다.\n",
    "\n",
    "```\n",
    "$ jupyter notebook\n",
    "```\n",
    "\n",
    "윈도우에서 주피터 노트북을 실행하면 웹서버 프로세스가 돌아가는 터미널 창이 이 실행되고 동시에 다음 주소로 웹 브라우저가 가동된다. \n",
    "\n",
    "* http://localhost:8888/tree \n",
    "\n",
    "만약 자동으로 웹 브라우저가 실행되지 않으면 수동으로 웹 브라우저를 가동하고 위 주소를 주소창에 입력한다.\n",
    "\n",
    "웹 서버 프로세스가 돌아가는 터미널 창을 닫으면 주피터 노트북 웹 서버가 중지되므로 주피터 노트북 사용이 끝날 때까지 이 창을 닫으면 안 된다."
   ]
  },
  {
   "cell_type": "markdown",
   "metadata": {},
   "source": []
  }
 ],
 "metadata": {
  "celltoolbar": "Edit Metadata",
  "kernelspec": {
   "display_name": "Python 3",
   "language": "python",
   "name": "python3"
  },
  "language_info": {
   "codemirror_mode": {
    "name": "ipython",
    "version": 3
   },
   "file_extension": ".py",
   "mimetype": "text/x-python",
   "name": "python",
   "nbconvert_exporter": "python",
   "pygments_lexer": "ipython3",
   "version": "3.8.3"
  }
 },
 "nbformat": 4,
 "nbformat_minor": 4
}
