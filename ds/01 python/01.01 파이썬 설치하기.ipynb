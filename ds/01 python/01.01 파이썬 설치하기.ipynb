{
 "cells": [
  {
   "cell_type": "markdown",
   "metadata": {
    "school_cell_uuid": "bedc91abb99c4cb6bc5f2338d12836a2"
   },
   "source": [
    "# 1.1 파이썬 설치하기"
   ]
  },
  {
   "cell_type": "markdown",
   "metadata": {
    "school_cell_uuid": "a8aca10ec77941eeb6b1b34d1883e2b9"
   },
   "source": [
    "여기에서는 사용자의 컴퓨터에 직접 파이썬을 설치하여 사용하는 방법을 살펴본다. "
   ]
  },
  {
   "cell_type": "markdown",
   "metadata": {
    "school_cell_uuid": "dcefb57675bd44adb9956e0718b075b5"
   },
   "source": [
    "## 파이썬의 종류"
   ]
  },
  {
   "cell_type": "markdown",
   "metadata": {
    "school_cell_uuid": "526efa2cc77f4146beb5b187bbae62b3"
   },
   "source": [
    "파이썬을 설치한다는 것은 파이썬 언어를 를 읽고 해석하여 수행하는 인터프리터(interpreter)라는 프로그램을 설치한다는 뜻이다. \n"
   ]
  },
  {
   "cell_type": "markdown",
   "metadata": {},
   "source": [
    "최초의 파이썬 언어 인터프리터는 C 언어로 만들어졌다. C로 만든 파이썬은 CPython(씨 파이썬이라고 읽는다)이라고 한다. CPython은 C 혹은 C++ 언어로 된 바이너리 라이브러리를 직접 호출할 수 있기 때문에 수많은 C/C++ 라이브러리를 파이썬에서 쉽게 사용할 수 있는 장점이 있다. 수치 계산이나 데이터 분석용으로 파이썬을 사용할 때는 항상 씨파이썬(CPython)을 사용한다.\n"
   ]
  },
  {
   "cell_type": "markdown",
   "metadata": {},
   "source": [
    "::: {.column-margin}\n",
    "씨파이썬(CPython)\n",
    ":::"
   ]
  },
  {
   "cell_type": "markdown",
   "metadata": {},
   "source": [
    "그 외에 자바(Java)로 구현된 자이썬(Jython), 닷넷(.NET)으로 구현된 아이언파이썬(IronPython) 등의 파이썬도 있다. 이러한 파이썬 인터프리터를 사용하면 자바 라이브러리나 닷넷 컴포넌트를 파이썬에서 직접 호출하여 사용할 수 있다."
   ]
  },
  {
   "cell_type": "markdown",
   "metadata": {
    "school_cell_uuid": "7a6ffd4f12fc44f5a070304d05badcae"
   },
   "source": [
    "## 파이썬 설치"
   ]
  },
  {
   "cell_type": "markdown",
   "metadata": {
    "school_cell_uuid": "01b1819a23e34719b068f91acf74da53"
   },
   "source": [
    "파이썬 종류와 버전을 알아보았으니 이제 파이썬을 설치해보자. 사용하는 컴퓨터의 운영체제가 리눅스나 맥OS인 경우에는 대부분에 파이썬이 이미 설치되어 있다. 윈도우를 사용한다면 파이썬 공식 웹사이트에서 파이썬 인터프리터를 내려받아 설치할 수 있다. \n",
    "\n",
    "그런데 리눅스와 맥OS에 기본 설치된 파이썬을 사용하거나, 공식 웹사이트에서 파이썬 인터프리터를 내려받아서 설치해 사용하면 파이썬 패키지 관리가 어렵고 여러 가지 다양한 추가 도구를 별도로 설치해야 하며 기존에 설치된 다른 파이썬과 충돌이 발생할 수도 있어 권장하지 않는다. 대신, 다음에 설명하는 파이썬 배포판(python distribution)을 이용하기를 권장한다."
   ]
  },
  {
   "cell_type": "markdown",
   "metadata": {
    "school_cell_uuid": "71d00ef1ac2f4663bcf50a699db6b350"
   },
   "source": [
    "## 파이썬 배포판"
   ]
  },
  {
   "cell_type": "markdown",
   "metadata": {},
   "source": [
    "파이썬 배포판은 파이썬 인터프리터 이외에도 다양한 패키지와 개발 도구를 함께 제공하는 설치 프로그램이다. 여러 가지 배포판이 있으므로 사용하고자 하는 운영체제, 32/64비트 지원 여부, 무료/상용 여부를 잘 고려하여 선택해야 한다."
   ]
  },
  {
   "cell_type": "markdown",
   "metadata": {},
   "source": [
    "::: {.column-margin}\n",
    "파이썬 배포판\n",
    ":::"
   ]
  },
  {
   "cell_type": "markdown",
   "metadata": {},
   "source": [
    "여기에서 추천하는 파이썬 배포판은 '미니포지(miniforge)'다. 미니포지 배포판은 용량이 작고 설치 속도가 빠르며 패키지 관리자인 pip, conda, mamba를 같이 설치해주므로 사용이 편하다. "
   ]
  },
  {
   "cell_type": "markdown",
   "metadata": {},
   "source": [
    "::: {.column-margin}\n",
    "미니포지 배포판\n",
    ":::"
   ]
  },
  {
   "cell_type": "markdown",
   "metadata": {
    "school_cell_uuid": "4462ea7e3b814074a881dfe2ab38538e"
   },
   "source": [
    "미니포지 배포판은 다음 웹사이트에서 자신이 사용하는 운영체제에 맞는 것을 선택하여 내려받는다.\n",
    "\n",
    "* https://github.com/conda-forge/miniforge/releases\n",
    "\n",
    "대표적인 운영체제용 설치파일은 다음과 같다.\n",
    "\n",
    "* 윈도우즈용: [Miniforge3-Windows-x86_64.exe](https://github.com/conda-forge/miniforge/releases/download/24.11.2-0/Miniforge3-Windows-x86_64.exe)\n",
    "* 맥OSX(인텔칩): [Miniforge3-MacOSX-x86_64.sh](https://github.com/conda-forge/miniforge/releases/download/24.11.2-0/Miniforge3-MacOSX-x86_64.sh)\n",
    "* 맥OSX(실리콘칩): [Miniforge3-MacOSX-arm64.sh](https://github.com/conda-forge/miniforge/releases/download/24.11.2-0/Miniforge3-MacOSX-arm64.sh)\n",
    "* 리눅스(실리콘칩): [Miniforge3-Linux-x86_64.sh](https://github.com/conda-forge/miniforge/releases/download/24.11.2-0/Miniforge3-Linux-x86_64.sh)"
   ]
  },
  {
   "cell_type": "markdown",
   "metadata": {},
   "source": [
    "## 미니포지 설치"
   ]
  },
  {
   "cell_type": "markdown",
   "metadata": {},
   "source": [
    "미니포지 배포판을 설치하는 방법은 아주 쉽다. 윈도우에서는 내려받은 파일을 더블 클릭하면 설치가 쉽게 이루어진다. 모든 설정은 주어진 기본 설정으로 선택하면 된다. 맥OS나 리눅스에서는 받은 파일이 실행 파일이므로 터미널 창에서 ``bash`` 명령으로 실행한다. \n",
    "\n",
    "설치 중 설정을 변경하지 않았다면 파이썬 인터프리터는 다음 경로에 설치된다.\n",
    "\n",
    "* 윈도우: ``C:/Users/사용자계정이름/miniforge3/bin/python``\n",
    "* 맥: ``/Users/사용자계정이름/miniforge3/bin/python``\n",
    "* 리눅스: ``/home/사용자계정이름/miniforge3/bin/python``"
   ]
  },
  {
   "cell_type": "markdown",
   "metadata": {
    "school_cell_uuid": "c98644a3af294041937f08528720d1fb"
   },
   "source": [
    "## 파이썬 설치 확인"
   ]
  },
  {
   "cell_type": "markdown",
   "metadata": {},
   "source": [
    "이제 파이썬을 실행하여 정상적으로 설치되었는지 확인하자.\n",
    "\n",
    "맥이나 리눅스에서는 새로운 터미널을 시작하고 `python`이라고 입력한다. 미니포지를 설치한 터미널에서는 경로가 정상적으로 설정되지 않아 실행이 안될 수도 있으므로 반드시 새로운 터미널 창을 시작해야 한다. \n",
    "\n",
    "윈도우의 경우에는 파이썬 파일에 대한 경로가 지정되어 있지 않으므로 시작 메뉴에서 `Minoforge3` 프로그램 그룹을 선택하고 이 아래의 `Miniforge Prompt`를 클릭하면 파이썬 경로가 지정된 터미널 창이 시작된다.\n",
    "\n",
    "* 모든 프로그램 → `Miniforge3` → `Miniforge Prompt`"
   ]
  },
  {
   "cell_type": "markdown",
   "metadata": {
    "school_cell_uuid": "9ed882c016b640a08b87d9025c6e0e39"
   },
   "source": [
    "정상적으로 실행된다면 터미널이 뜨고 다음처럼 파이썬 버전 번호를 포함한 메시지와 >>> 모양의 프롬프트가 나온다. 메시지 내용은 사용하는 컴퓨터나 파이썬 버전, 다운로드받은 시점에 따라 달라질 수 있다. \n",
    "\n",
    "```bash\n",
    "$ python\n",
    "Python 3.12.8 | packaged by conda-forge | (main, Dec  5 2024, 14:25:12) [Clang 18.1.8 ] on darwin\n",
    "Type \"help\", \"copyright\", \"credits\" or \"license\" for more information.\n",
    ">>> \n",
    "```\n",
    "\n",
    "여기에서는 파이썬이 동작하는지 확인만 하고 구체적인 사용법은 나중에 공부하므로 이제 파이썬 인터프리터를 종료하자. 종료하려면 다음과 같이 `>>>` 프롬프트 다음에 `exit()` 라고 입력한다. 그러면 파이썬 인터프리터가 종료되가 다시 터미널 화면으로 나오게 된다."
   ]
  },
  {
   "cell_type": "markdown",
   "metadata": {},
   "source": [
    "```bash\n",
    "$ python\n",
    "Python 3.12.8 | packaged by conda-forge | (main, Dec  5 2024, 14:25:12) [Clang 18.1.8 ] on darwin\n",
    "Type \"help\", \"copyright\", \"credits\" or \"license\" for more information.\n",
    ">>> exit()\n",
    "$ \n",
    "```"
   ]
  }
 ],
 "metadata": {
  "celltoolbar": "Edit Metadata",
  "kernelspec": {
   "display_name": "base",
   "language": "python",
   "name": "python3"
  },
  "language_info": {
   "codemirror_mode": {
    "name": "ipython",
    "version": 3
   },
   "file_extension": ".py",
   "mimetype": "text/x-python",
   "name": "python",
   "nbconvert_exporter": "python",
   "pygments_lexer": "ipython3",
   "version": "3.12.8"
  }
 },
 "nbformat": 4,
 "nbformat_minor": 4
}
